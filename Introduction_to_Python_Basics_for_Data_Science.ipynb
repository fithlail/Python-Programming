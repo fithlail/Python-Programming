{
  "nbformat": 4,
  "nbformat_minor": 0,
  "metadata": {
    "colab": {
      "name": "Introduction to Python Basics for Data Science.ipynb",
      "provenance": [],
      "collapsed_sections": [],
      "authorship_tag": "ABX9TyPJ7WkabhX7jSpxC25TmmgI",
      "include_colab_link": true
    },
    "kernelspec": {
      "name": "python3",
      "display_name": "Python 3"
    },
    "language_info": {
      "name": "python"
    }
  },
  "cells": [
    {
      "cell_type": "markdown",
      "metadata": {
        "id": "view-in-github",
        "colab_type": "text"
      },
      "source": [
        "<a href=\"https://colab.research.google.com/github/fithlail/Python-Programming/blob/main/Introduction_to_Python_Basics_for_Data_Science.ipynb\" target=\"_parent\"><img src=\"https://colab.research.google.com/assets/colab-badge.svg\" alt=\"Open In Colab\"/></a>"
      ]
    },
    {
      "cell_type": "markdown",
      "source": [
        "Hello World"
      ],
      "metadata": {
        "id": "9L4tFL2ramvY"
      }
    },
    {
      "cell_type": "code",
      "execution_count": 1,
      "metadata": {
        "colab": {
          "base_uri": "https://localhost:8080/"
        },
        "id": "v7iAnEWAahPU",
        "outputId": "ce150cc3-ceac-4c3c-886e-e66a754fb241"
      },
      "outputs": [
        {
          "output_type": "stream",
          "name": "stdout",
          "text": [
            "Hello World!\n"
          ]
        }
      ],
      "source": [
        "print(\"Hello World!\")"
      ]
    },
    {
      "cell_type": "code",
      "source": [
        "print(\"Hello, DPhi! Today I executed my very first Python program. Thanks!\")"
      ],
      "metadata": {
        "colab": {
          "base_uri": "https://localhost:8080/"
        },
        "id": "gmPWYlKUaygi",
        "outputId": "79dc0bdf-8c4c-4f9e-9f46-120b88c1b7d8"
      },
      "execution_count": 3,
      "outputs": [
        {
          "output_type": "stream",
          "name": "stdout",
          "text": [
            "Hello, DPhi! Today I executed my very first Python program. Thanks!\n"
          ]
        }
      ]
    },
    {
      "cell_type": "markdown",
      "source": [
        "# Operators in Python"
      ],
      "metadata": {
        "id": "6ZX6NggZbKDd"
      }
    },
    {
      "cell_type": "code",
      "source": [
        "x = 2\n",
        "y = 3\n",
        "\n",
        "x + y\n",
        "x * y\n",
        "\n",
        "print(x)\n",
        "print(y)"
      ],
      "metadata": {
        "colab": {
          "base_uri": "https://localhost:8080/"
        },
        "id": "CRbAurD6bVi0",
        "outputId": "ab9aaec3-e3e0-446c-ab50-aefd1e0ea965"
      },
      "execution_count": 5,
      "outputs": [
        {
          "output_type": "stream",
          "name": "stdout",
          "text": [
            "2\n",
            "3\n"
          ]
        }
      ]
    },
    {
      "cell_type": "markdown",
      "source": [
        "# Exercise - Coding Challenge"
      ],
      "metadata": {
        "id": "HvveZaQtbyeN"
      }
    },
    {
      "cell_type": "code",
      "source": [
        "a = 5\n",
        "b = 16\n",
        "\n",
        "print(a + b)"
      ],
      "metadata": {
        "colab": {
          "base_uri": "https://localhost:8080/"
        },
        "id": "sA4mvCwub0IP",
        "outputId": "38cccf4e-92dc-4ef4-f7f3-30ebe374741d"
      },
      "execution_count": 6,
      "outputs": [
        {
          "output_type": "stream",
          "name": "stdout",
          "text": [
            "21\n"
          ]
        }
      ]
    },
    {
      "cell_type": "code",
      "source": [
        "# Input and Output Exercise\n",
        "\n",
        "a = input(\"Number of a ?\")\n",
        "b = int(a)\n",
        "print(b**3)"
      ],
      "metadata": {
        "colab": {
          "base_uri": "https://localhost:8080/"
        },
        "id": "yGQa9tFQcNJU",
        "outputId": "867159f1-123c-4786-b0ff-cf2643947584"
      },
      "execution_count": 16,
      "outputs": [
        {
          "output_type": "stream",
          "name": "stdout",
          "text": [
            "Number of a ?4\n",
            "64\n"
          ]
        }
      ]
    },
    {
      "cell_type": "markdown",
      "source": [
        "# Data Structure & Data Types"
      ],
      "metadata": {
        "id": "Wwr-SYNYgb1E"
      }
    },
    {
      "cell_type": "code",
      "source": [
        "a = 4\n",
        "type(a)"
      ],
      "metadata": {
        "colab": {
          "base_uri": "https://localhost:8080/"
        },
        "id": "4Sfalu_1ghC1",
        "outputId": "cc8ccdc4-5dae-4c09-c645-ef8d68298239"
      },
      "execution_count": 17,
      "outputs": [
        {
          "output_type": "execute_result",
          "data": {
            "text/plain": [
              "int"
            ]
          },
          "metadata": {},
          "execution_count": 17
        }
      ]
    },
    {
      "cell_type": "code",
      "source": [
        "b = 2.5\n",
        "type(b)"
      ],
      "metadata": {
        "colab": {
          "base_uri": "https://localhost:8080/"
        },
        "id": "8iT0AVW4gqF8",
        "outputId": "2f0fecc4-f5e5-4aab-a3c4-b773512cae50"
      },
      "execution_count": 18,
      "outputs": [
        {
          "output_type": "execute_result",
          "data": {
            "text/plain": [
              "float"
            ]
          },
          "metadata": {},
          "execution_count": 18
        }
      ]
    },
    {
      "cell_type": "code",
      "source": [
        "text = 'hello'\n",
        "type(text)"
      ],
      "metadata": {
        "colab": {
          "base_uri": "https://localhost:8080/"
        },
        "id": "OIu1q_fOguMl",
        "outputId": "066a3144-6096-4682-b94e-0c3186a05ed4"
      },
      "execution_count": 19,
      "outputs": [
        {
          "output_type": "execute_result",
          "data": {
            "text/plain": [
              "str"
            ]
          },
          "metadata": {},
          "execution_count": 19
        }
      ]
    },
    {
      "cell_type": "code",
      "source": [
        "boolvar = True\n",
        "type(boolvar)"
      ],
      "metadata": {
        "colab": {
          "base_uri": "https://localhost:8080/"
        },
        "id": "H0qW1Y3vgyrl",
        "outputId": "4f7867ba-2fe1-4092-b569-fc22f0c7d5d3"
      },
      "execution_count": 20,
      "outputs": [
        {
          "output_type": "execute_result",
          "data": {
            "text/plain": [
              "bool"
            ]
          },
          "metadata": {},
          "execution_count": 20
        }
      ]
    },
    {
      "cell_type": "markdown",
      "source": [
        "# Strings"
      ],
      "metadata": {
        "id": "kVhKwfAdg6_k"
      }
    },
    {
      "cell_type": "code",
      "source": [
        "a = \"Hello World!\"\n",
        "\n",
        "print(a[1])"
      ],
      "metadata": {
        "colab": {
          "base_uri": "https://localhost:8080/"
        },
        "id": "rFnWQFzSg9H0",
        "outputId": "050da458-3791-4e6f-8d41-12fac409d012"
      },
      "execution_count": 21,
      "outputs": [
        {
          "output_type": "stream",
          "name": "stdout",
          "text": [
            "e\n"
          ]
        }
      ]
    },
    {
      "cell_type": "code",
      "source": [
        "a = \"Hello, World!\"\n",
        "print(a[7:12])"
      ],
      "metadata": {
        "colab": {
          "base_uri": "https://localhost:8080/"
        },
        "id": "6WuPTCl8hG6s",
        "outputId": "7fb89a2d-6379-4768-ea52-9c271bb75205"
      },
      "execution_count": 23,
      "outputs": [
        {
          "output_type": "stream",
          "name": "stdout",
          "text": [
            "World\n"
          ]
        }
      ]
    },
    {
      "cell_type": "code",
      "source": [
        "a = \"Hello, World!\"\n",
        "print(a[-4])"
      ],
      "metadata": {
        "colab": {
          "base_uri": "https://localhost:8080/"
        },
        "id": "L6JDz3VmhU0M",
        "outputId": "38214da8-6e4c-456b-ba41-76356be0e086"
      },
      "execution_count": 24,
      "outputs": [
        {
          "output_type": "stream",
          "name": "stdout",
          "text": [
            "r\n"
          ]
        }
      ]
    },
    {
      "cell_type": "code",
      "source": [
        "a = \"Hello, World!\"\n",
        "print(a[-5:-2])"
      ],
      "metadata": {
        "colab": {
          "base_uri": "https://localhost:8080/"
        },
        "id": "PYl-qG50hdoC",
        "outputId": "553e306c-723f-4861-9203-f17f49ec5398"
      },
      "execution_count": 25,
      "outputs": [
        {
          "output_type": "stream",
          "name": "stdout",
          "text": [
            "orl\n"
          ]
        }
      ]
    },
    {
      "cell_type": "code",
      "source": [
        "# String Concatenation\n",
        "\n",
        "x = \"Python is \"\n",
        "y = \"awesome\"\n",
        "\n",
        "z = x + y\n",
        "print(z)"
      ],
      "metadata": {
        "colab": {
          "base_uri": "https://localhost:8080/"
        },
        "id": "nNqS2ikFhng1",
        "outputId": "d61f692e-029e-4315-a738-e1675f907238"
      },
      "execution_count": 27,
      "outputs": [
        {
          "output_type": "stream",
          "name": "stdout",
          "text": [
            "Python is awesome\n"
          ]
        }
      ]
    },
    {
      "cell_type": "code",
      "source": [
        "# String Concatenation: Add Space\n",
        "\n",
        "x = 'ab'\n",
        "y = 'cd'\n",
        "# Adding Space between two strings\n",
        "print(x + \" \" + y)"
      ],
      "metadata": {
        "colab": {
          "base_uri": "https://localhost:8080/"
        },
        "id": "LAUCRqNch3QM",
        "outputId": "34e18f48-2ec5-467d-be56-4d37c5d2de5e"
      },
      "execution_count": 28,
      "outputs": [
        {
          "output_type": "stream",
          "name": "stdout",
          "text": [
            "ab cd\n"
          ]
        }
      ]
    },
    {
      "cell_type": "code",
      "source": [
        "# String Length\n",
        "a = \"Hello, World!\"\n",
        "\n",
        "print(len(a))"
      ],
      "metadata": {
        "colab": {
          "base_uri": "https://localhost:8080/"
        },
        "id": "WTcAhFmfiNtT",
        "outputId": "62742944-530f-40d0-bebf-b35ecfda58f8"
      },
      "execution_count": 29,
      "outputs": [
        {
          "output_type": "stream",
          "name": "stdout",
          "text": [
            "13\n"
          ]
        }
      ]
    },
    {
      "cell_type": "markdown",
      "source": [
        "# Lists in Python"
      ],
      "metadata": {
        "id": "pMqk1KMGjWUm"
      }
    },
    {
      "cell_type": "code",
      "source": [
        "A = [\"Brush\", \"Leuven\", 48851964400, 3.14, \"Mom\"]\n",
        "\n",
        "B = [\"Morning Walk\", \"Leuven\", 48851964400, 3.14, \"Mom\"]\n",
        "\n",
        "A\n",
        "\n",
        "B"
      ],
      "metadata": {
        "colab": {
          "base_uri": "https://localhost:8080/"
        },
        "id": "9qmNjNm8jY32",
        "outputId": "fb789dc4-2a42-456e-c5cd-d1474aef0be3"
      },
      "execution_count": 35,
      "outputs": [
        {
          "output_type": "execute_result",
          "data": {
            "text/plain": [
              "['Morning Walk', 'Leuven', 48851964400, 3.14, 'Mom']"
            ]
          },
          "metadata": {},
          "execution_count": 35
        }
      ]
    },
    {
      "cell_type": "markdown",
      "source": [
        "# List Methods"
      ],
      "metadata": {
        "id": "kcaKq8GVnrE0"
      }
    },
    {
      "cell_type": "code",
      "source": [
        "# .append()\n",
        "orders = ['daisies', 'periwinkle']\n",
        "orders"
      ],
      "metadata": {
        "colab": {
          "base_uri": "https://localhost:8080/"
        },
        "id": "xfik7zTDnso7",
        "outputId": "b90766b1-0eb1-429b-8e3e-8a5df286cf74"
      },
      "execution_count": 38,
      "outputs": [
        {
          "output_type": "execute_result",
          "data": {
            "text/plain": [
              "['daisies', 'periwinkle']"
            ]
          },
          "metadata": {},
          "execution_count": 38
        }
      ]
    },
    {
      "cell_type": "code",
      "source": [
        "orders.append('tulips')\n",
        "print(orders)"
      ],
      "metadata": {
        "colab": {
          "base_uri": "https://localhost:8080/"
        },
        "id": "-KRrbTqRn28L",
        "outputId": "37ebb571-696e-4bfb-bc44-ac8a64201479"
      },
      "execution_count": 39,
      "outputs": [
        {
          "output_type": "stream",
          "name": "stdout",
          "text": [
            "['daisies', 'periwinkle', 'tulips']\n"
          ]
        }
      ]
    },
    {
      "cell_type": "code",
      "source": [
        "# .count()\n",
        "backpack = ['pencil', 'pen', 'notebook', 'textbook', 'pen', 'highlighter', 'pen']\n",
        "numPen = backpack.count('pen')\n",
        "print(numPen)"
      ],
      "metadata": {
        "colab": {
          "base_uri": "https://localhost:8080/"
        },
        "id": "z3VrfCxloD2F",
        "outputId": "41719311-67a1-414a-bc13-38b4bc0e752a"
      },
      "execution_count": 40,
      "outputs": [
        {
          "output_type": "stream",
          "name": "stdout",
          "text": [
            "3\n"
          ]
        }
      ]
    },
    {
      "cell_type": "code",
      "source": [
        "# len()\n",
        "backpack = ['pencil', 'pen', 'notebook', 'textbook', 'pen', 'highlighter', 'pen']\n",
        "print(len(backpack))"
      ],
      "metadata": {
        "colab": {
          "base_uri": "https://localhost:8080/"
        },
        "id": "gYovYsncofbE",
        "outputId": "896a8739-d272-49af-d3e4-b24091d5f8ae"
      },
      "execution_count": 41,
      "outputs": [
        {
          "output_type": "stream",
          "name": "stdout",
          "text": [
            "7\n"
          ]
        }
      ]
    },
    {
      "cell_type": "code",
      "source": [
        "# sort()\n",
        "exampleList = [4, 2, 1, 3]\n",
        "exampleList.sort()\n",
        "print(exampleList)"
      ],
      "metadata": {
        "colab": {
          "base_uri": "https://localhost:8080/"
        },
        "id": "eMsL66ZlopIm",
        "outputId": "997c0647-655d-4b79-efa1-662f9d146849"
      },
      "execution_count": 42,
      "outputs": [
        {
          "output_type": "stream",
          "name": "stdout",
          "text": [
            "[1, 2, 3, 4]\n"
          ]
        }
      ]
    }
  ]
}