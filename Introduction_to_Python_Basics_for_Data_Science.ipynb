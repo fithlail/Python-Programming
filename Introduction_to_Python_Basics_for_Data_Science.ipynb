{
  "nbformat": 4,
  "nbformat_minor": 0,
  "metadata": {
    "colab": {
      "name": "Introduction to Python Basics for Data Science.ipynb",
      "provenance": [],
      "collapsed_sections": [],
      "authorship_tag": "ABX9TyO7y9kPR0FfgOsDiMzWHKhF",
      "include_colab_link": true
    },
    "kernelspec": {
      "name": "python3",
      "display_name": "Python 3"
    },
    "language_info": {
      "name": "python"
    }
  },
  "cells": [
    {
      "cell_type": "markdown",
      "metadata": {
        "id": "view-in-github",
        "colab_type": "text"
      },
      "source": [
        "<a href=\"https://colab.research.google.com/github/fithlail/Python-Programming/blob/main/Introduction_to_Python_Basics_for_Data_Science.ipynb\" target=\"_parent\"><img src=\"https://colab.research.google.com/assets/colab-badge.svg\" alt=\"Open In Colab\"/></a>"
      ]
    },
    {
      "cell_type": "markdown",
      "source": [
        "Hello World"
      ],
      "metadata": {
        "id": "9L4tFL2ramvY"
      }
    },
    {
      "cell_type": "code",
      "execution_count": null,
      "metadata": {
        "colab": {
          "base_uri": "https://localhost:8080/"
        },
        "id": "v7iAnEWAahPU",
        "outputId": "ce150cc3-ceac-4c3c-886e-e66a754fb241"
      },
      "outputs": [
        {
          "output_type": "stream",
          "name": "stdout",
          "text": [
            "Hello World!\n"
          ]
        }
      ],
      "source": [
        "print(\"Hello World!\")"
      ]
    },
    {
      "cell_type": "code",
      "source": [
        "print(\"Hello, DPhi! Today I executed my very first Python program. Thanks!\")"
      ],
      "metadata": {
        "colab": {
          "base_uri": "https://localhost:8080/"
        },
        "id": "gmPWYlKUaygi",
        "outputId": "79dc0bdf-8c4c-4f9e-9f46-120b88c1b7d8"
      },
      "execution_count": null,
      "outputs": [
        {
          "output_type": "stream",
          "name": "stdout",
          "text": [
            "Hello, DPhi! Today I executed my very first Python program. Thanks!\n"
          ]
        }
      ]
    },
    {
      "cell_type": "markdown",
      "source": [
        "# Operators in Python"
      ],
      "metadata": {
        "id": "6ZX6NggZbKDd"
      }
    },
    {
      "cell_type": "code",
      "source": [
        "x = 2\n",
        "y = 3\n",
        "\n",
        "x + y\n",
        "x * y\n",
        "\n",
        "print(x)\n",
        "print(y)"
      ],
      "metadata": {
        "colab": {
          "base_uri": "https://localhost:8080/"
        },
        "id": "CRbAurD6bVi0",
        "outputId": "ab9aaec3-e3e0-446c-ab50-aefd1e0ea965"
      },
      "execution_count": null,
      "outputs": [
        {
          "output_type": "stream",
          "name": "stdout",
          "text": [
            "2\n",
            "3\n"
          ]
        }
      ]
    },
    {
      "cell_type": "markdown",
      "source": [
        "# Exercise - Coding Challenge"
      ],
      "metadata": {
        "id": "HvveZaQtbyeN"
      }
    },
    {
      "cell_type": "code",
      "source": [
        "a = 5\n",
        "b = 16\n",
        "\n",
        "print(a + b)"
      ],
      "metadata": {
        "colab": {
          "base_uri": "https://localhost:8080/"
        },
        "id": "sA4mvCwub0IP",
        "outputId": "38cccf4e-92dc-4ef4-f7f3-30ebe374741d"
      },
      "execution_count": null,
      "outputs": [
        {
          "output_type": "stream",
          "name": "stdout",
          "text": [
            "21\n"
          ]
        }
      ]
    },
    {
      "cell_type": "code",
      "source": [
        "# Input and Output Exercise\n",
        "\n",
        "a = input(\"Number of a ?\")\n",
        "b = int(a)\n",
        "print(b**3)"
      ],
      "metadata": {
        "colab": {
          "base_uri": "https://localhost:8080/"
        },
        "id": "yGQa9tFQcNJU",
        "outputId": "867159f1-123c-4786-b0ff-cf2643947584"
      },
      "execution_count": null,
      "outputs": [
        {
          "output_type": "stream",
          "name": "stdout",
          "text": [
            "Number of a ?4\n",
            "64\n"
          ]
        }
      ]
    },
    {
      "cell_type": "markdown",
      "source": [
        "# Data Structure & Data Types"
      ],
      "metadata": {
        "id": "Wwr-SYNYgb1E"
      }
    },
    {
      "cell_type": "code",
      "source": [
        "a = 4\n",
        "type(a)"
      ],
      "metadata": {
        "colab": {
          "base_uri": "https://localhost:8080/"
        },
        "id": "4Sfalu_1ghC1",
        "outputId": "cc8ccdc4-5dae-4c09-c645-ef8d68298239"
      },
      "execution_count": null,
      "outputs": [
        {
          "output_type": "execute_result",
          "data": {
            "text/plain": [
              "int"
            ]
          },
          "metadata": {},
          "execution_count": 17
        }
      ]
    },
    {
      "cell_type": "code",
      "source": [
        "b = 2.5\n",
        "type(b)"
      ],
      "metadata": {
        "colab": {
          "base_uri": "https://localhost:8080/"
        },
        "id": "8iT0AVW4gqF8",
        "outputId": "2f0fecc4-f5e5-4aab-a3c4-b773512cae50"
      },
      "execution_count": null,
      "outputs": [
        {
          "output_type": "execute_result",
          "data": {
            "text/plain": [
              "float"
            ]
          },
          "metadata": {},
          "execution_count": 18
        }
      ]
    },
    {
      "cell_type": "code",
      "source": [
        "text = 'hello'\n",
        "type(text)"
      ],
      "metadata": {
        "colab": {
          "base_uri": "https://localhost:8080/"
        },
        "id": "OIu1q_fOguMl",
        "outputId": "066a3144-6096-4682-b94e-0c3186a05ed4"
      },
      "execution_count": null,
      "outputs": [
        {
          "output_type": "execute_result",
          "data": {
            "text/plain": [
              "str"
            ]
          },
          "metadata": {},
          "execution_count": 19
        }
      ]
    },
    {
      "cell_type": "code",
      "source": [
        "boolvar = True\n",
        "type(boolvar)"
      ],
      "metadata": {
        "colab": {
          "base_uri": "https://localhost:8080/"
        },
        "id": "H0qW1Y3vgyrl",
        "outputId": "4f7867ba-2fe1-4092-b569-fc22f0c7d5d3"
      },
      "execution_count": null,
      "outputs": [
        {
          "output_type": "execute_result",
          "data": {
            "text/plain": [
              "bool"
            ]
          },
          "metadata": {},
          "execution_count": 20
        }
      ]
    },
    {
      "cell_type": "markdown",
      "source": [
        "# Strings"
      ],
      "metadata": {
        "id": "kVhKwfAdg6_k"
      }
    },
    {
      "cell_type": "code",
      "source": [
        "a = \"Hello World!\"\n",
        "\n",
        "print(a[1])"
      ],
      "metadata": {
        "colab": {
          "base_uri": "https://localhost:8080/"
        },
        "id": "rFnWQFzSg9H0",
        "outputId": "050da458-3791-4e6f-8d41-12fac409d012"
      },
      "execution_count": null,
      "outputs": [
        {
          "output_type": "stream",
          "name": "stdout",
          "text": [
            "e\n"
          ]
        }
      ]
    },
    {
      "cell_type": "code",
      "source": [
        "a = \"Hello, World!\"\n",
        "print(a[7:12])"
      ],
      "metadata": {
        "colab": {
          "base_uri": "https://localhost:8080/"
        },
        "id": "6WuPTCl8hG6s",
        "outputId": "7fb89a2d-6379-4768-ea52-9c271bb75205"
      },
      "execution_count": null,
      "outputs": [
        {
          "output_type": "stream",
          "name": "stdout",
          "text": [
            "World\n"
          ]
        }
      ]
    },
    {
      "cell_type": "code",
      "source": [
        "a = \"Hello, World!\"\n",
        "print(a[-4])"
      ],
      "metadata": {
        "colab": {
          "base_uri": "https://localhost:8080/"
        },
        "id": "L6JDz3VmhU0M",
        "outputId": "38214da8-6e4c-456b-ba41-76356be0e086"
      },
      "execution_count": null,
      "outputs": [
        {
          "output_type": "stream",
          "name": "stdout",
          "text": [
            "r\n"
          ]
        }
      ]
    },
    {
      "cell_type": "code",
      "source": [
        "a = \"Hello, World!\"\n",
        "print(a[-5:-2])"
      ],
      "metadata": {
        "colab": {
          "base_uri": "https://localhost:8080/"
        },
        "id": "PYl-qG50hdoC",
        "outputId": "553e306c-723f-4861-9203-f17f49ec5398"
      },
      "execution_count": null,
      "outputs": [
        {
          "output_type": "stream",
          "name": "stdout",
          "text": [
            "orl\n"
          ]
        }
      ]
    },
    {
      "cell_type": "code",
      "source": [
        "# String Concatenation\n",
        "\n",
        "x = \"Python is \"\n",
        "y = \"awesome\"\n",
        "\n",
        "z = x + y\n",
        "print(z)"
      ],
      "metadata": {
        "colab": {
          "base_uri": "https://localhost:8080/"
        },
        "id": "nNqS2ikFhng1",
        "outputId": "d61f692e-029e-4315-a738-e1675f907238"
      },
      "execution_count": null,
      "outputs": [
        {
          "output_type": "stream",
          "name": "stdout",
          "text": [
            "Python is awesome\n"
          ]
        }
      ]
    },
    {
      "cell_type": "code",
      "source": [
        "# String Concatenation: Add Space\n",
        "\n",
        "x = 'ab'\n",
        "y = 'cd'\n",
        "# Adding Space between two strings\n",
        "print(x + \" \" + y)"
      ],
      "metadata": {
        "colab": {
          "base_uri": "https://localhost:8080/"
        },
        "id": "LAUCRqNch3QM",
        "outputId": "34e18f48-2ec5-467d-be56-4d37c5d2de5e"
      },
      "execution_count": null,
      "outputs": [
        {
          "output_type": "stream",
          "name": "stdout",
          "text": [
            "ab cd\n"
          ]
        }
      ]
    },
    {
      "cell_type": "code",
      "source": [
        "# String Length\n",
        "a = \"Hello, World!\"\n",
        "\n",
        "print(len(a))"
      ],
      "metadata": {
        "colab": {
          "base_uri": "https://localhost:8080/"
        },
        "id": "WTcAhFmfiNtT",
        "outputId": "62742944-530f-40d0-bebf-b35ecfda58f8"
      },
      "execution_count": null,
      "outputs": [
        {
          "output_type": "stream",
          "name": "stdout",
          "text": [
            "13\n"
          ]
        }
      ]
    },
    {
      "cell_type": "markdown",
      "source": [
        "# Lists in Python"
      ],
      "metadata": {
        "id": "pMqk1KMGjWUm"
      }
    },
    {
      "cell_type": "code",
      "source": [
        "A = [\"Brush\", \"Leuven\", 48851964400, 3.14, \"Mom\"]\n",
        "\n",
        "B = [\"Morning Walk\", \"Leuven\", 48851964400, 3.14, \"Mom\"]\n",
        "\n",
        "A\n",
        "\n",
        "B"
      ],
      "metadata": {
        "colab": {
          "base_uri": "https://localhost:8080/"
        },
        "id": "9qmNjNm8jY32",
        "outputId": "fb789dc4-2a42-456e-c5cd-d1474aef0be3"
      },
      "execution_count": null,
      "outputs": [
        {
          "output_type": "execute_result",
          "data": {
            "text/plain": [
              "['Morning Walk', 'Leuven', 48851964400, 3.14, 'Mom']"
            ]
          },
          "metadata": {},
          "execution_count": 35
        }
      ]
    },
    {
      "cell_type": "markdown",
      "source": [
        "# List Methods"
      ],
      "metadata": {
        "id": "kcaKq8GVnrE0"
      }
    },
    {
      "cell_type": "code",
      "source": [
        "# .append()\n",
        "orders = ['daisies', 'periwinkle']\n",
        "orders"
      ],
      "metadata": {
        "colab": {
          "base_uri": "https://localhost:8080/"
        },
        "id": "xfik7zTDnso7",
        "outputId": "b90766b1-0eb1-429b-8e3e-8a5df286cf74"
      },
      "execution_count": null,
      "outputs": [
        {
          "output_type": "execute_result",
          "data": {
            "text/plain": [
              "['daisies', 'periwinkle']"
            ]
          },
          "metadata": {},
          "execution_count": 38
        }
      ]
    },
    {
      "cell_type": "code",
      "source": [
        "orders.append('tulips')\n",
        "print(orders)"
      ],
      "metadata": {
        "colab": {
          "base_uri": "https://localhost:8080/"
        },
        "id": "-KRrbTqRn28L",
        "outputId": "37ebb571-696e-4bfb-bc44-ac8a64201479"
      },
      "execution_count": null,
      "outputs": [
        {
          "output_type": "stream",
          "name": "stdout",
          "text": [
            "['daisies', 'periwinkle', 'tulips']\n"
          ]
        }
      ]
    },
    {
      "cell_type": "code",
      "source": [
        "# .count()\n",
        "backpack = ['pencil', 'pen', 'notebook', 'textbook', 'pen', 'highlighter', 'pen']\n",
        "numPen = backpack.count('pen')\n",
        "print(numPen)"
      ],
      "metadata": {
        "colab": {
          "base_uri": "https://localhost:8080/"
        },
        "id": "z3VrfCxloD2F",
        "outputId": "41719311-67a1-414a-bc13-38b4bc0e752a"
      },
      "execution_count": null,
      "outputs": [
        {
          "output_type": "stream",
          "name": "stdout",
          "text": [
            "3\n"
          ]
        }
      ]
    },
    {
      "cell_type": "code",
      "source": [
        "# len()\n",
        "backpack = ['pencil', 'pen', 'notebook', 'textbook', 'pen', 'highlighter', 'pen']\n",
        "print(len(backpack))"
      ],
      "metadata": {
        "colab": {
          "base_uri": "https://localhost:8080/"
        },
        "id": "gYovYsncofbE",
        "outputId": "896a8739-d272-49af-d3e4-b24091d5f8ae"
      },
      "execution_count": null,
      "outputs": [
        {
          "output_type": "stream",
          "name": "stdout",
          "text": [
            "7\n"
          ]
        }
      ]
    },
    {
      "cell_type": "code",
      "source": [
        "# sort()\n",
        "exampleList = [4, 2, 1, 3]\n",
        "exampleList.sort()\n",
        "print(exampleList)"
      ],
      "metadata": {
        "colab": {
          "base_uri": "https://localhost:8080/"
        },
        "id": "eMsL66ZlopIm",
        "outputId": "997c0647-655d-4b79-efa1-662f9d146849"
      },
      "execution_count": null,
      "outputs": [
        {
          "output_type": "stream",
          "name": "stdout",
          "text": [
            "[1, 2, 3, 4]\n"
          ]
        }
      ]
    },
    {
      "cell_type": "markdown",
      "source": [
        "# Tuples in Python"
      ],
      "metadata": {
        "id": "X6UpkWiNnWWc"
      }
    },
    {
      "cell_type": "code",
      "source": [
        "x = (1, 5, 3, 4, 8)\n",
        "x"
      ],
      "metadata": {
        "colab": {
          "base_uri": "https://localhost:8080/"
        },
        "id": "3JAZ-4KNnX13",
        "outputId": "949f7c99-d108-4dc1-eb29-b3072497c2c7"
      },
      "execution_count": null,
      "outputs": [
        {
          "output_type": "execute_result",
          "data": {
            "text/plain": [
              "(1, 5, 3, 4, 8)"
            ]
          },
          "metadata": {},
          "execution_count": 1
        }
      ]
    },
    {
      "cell_type": "code",
      "source": [
        "x[0]"
      ],
      "metadata": {
        "colab": {
          "base_uri": "https://localhost:8080/"
        },
        "id": "yWIDnbwkn7tq",
        "outputId": "0578a1aa-565c-4be5-83fd-be5f59194481"
      },
      "execution_count": null,
      "outputs": [
        {
          "output_type": "execute_result",
          "data": {
            "text/plain": [
              "1"
            ]
          },
          "metadata": {},
          "execution_count": 2
        }
      ]
    },
    {
      "cell_type": "code",
      "source": [
        "x[4]"
      ],
      "metadata": {
        "colab": {
          "base_uri": "https://localhost:8080/"
        },
        "id": "XqG4EfRBoE-e",
        "outputId": "8d431164-7d25-450f-e919-1acdee8e5f04"
      },
      "execution_count": null,
      "outputs": [
        {
          "output_type": "execute_result",
          "data": {
            "text/plain": [
              "8"
            ]
          },
          "metadata": {},
          "execution_count": 3
        }
      ]
    },
    {
      "cell_type": "code",
      "source": [
        "x[100]"
      ],
      "metadata": {
        "colab": {
          "base_uri": "https://localhost:8080/",
          "height": 169
        },
        "id": "XQyVq3z6oJDE",
        "outputId": "19e48735-3bba-4322-bab8-358be1c209ba"
      },
      "execution_count": null,
      "outputs": [
        {
          "output_type": "error",
          "ename": "IndexError",
          "evalue": "ignored",
          "traceback": [
            "\u001b[0;31m---------------------------------------------------------------------------\u001b[0m",
            "\u001b[0;31mIndexError\u001b[0m                                Traceback (most recent call last)",
            "\u001b[0;32m<ipython-input-4-1c48815fc125>\u001b[0m in \u001b[0;36m<module>\u001b[0;34m()\u001b[0m\n\u001b[0;32m----> 1\u001b[0;31m \u001b[0mx\u001b[0m\u001b[0;34m[\u001b[0m\u001b[0;36m100\u001b[0m\u001b[0;34m]\u001b[0m\u001b[0;34m\u001b[0m\u001b[0;34m\u001b[0m\u001b[0m\n\u001b[0m",
            "\u001b[0;31mIndexError\u001b[0m: tuple index out of range"
          ]
        }
      ]
    },
    {
      "cell_type": "code",
      "source": [
        "x.count(8)"
      ],
      "metadata": {
        "colab": {
          "base_uri": "https://localhost:8080/"
        },
        "id": "ZEzIZ8gmoPAD",
        "outputId": "2d9abd06-8ce3-476a-8206-55ca42feba37"
      },
      "execution_count": null,
      "outputs": [
        {
          "output_type": "execute_result",
          "data": {
            "text/plain": [
              "1"
            ]
          },
          "metadata": {},
          "execution_count": 5
        }
      ]
    },
    {
      "cell_type": "code",
      "source": [
        "len(x)"
      ],
      "metadata": {
        "colab": {
          "base_uri": "https://localhost:8080/"
        },
        "id": "OYPJLitdoe-4",
        "outputId": "4732e454-c5f8-4c88-a018-707788dfec1c"
      },
      "execution_count": null,
      "outputs": [
        {
          "output_type": "execute_result",
          "data": {
            "text/plain": [
              "5"
            ]
          },
          "metadata": {},
          "execution_count": 6
        }
      ]
    },
    {
      "cell_type": "code",
      "source": [
        "y = (1, 'max', 1.6)\n",
        "y"
      ],
      "metadata": {
        "colab": {
          "base_uri": "https://localhost:8080/"
        },
        "id": "FX7DSph5otbP",
        "outputId": "aba0da66-00d4-4edf-db34-18a7bea47571"
      },
      "execution_count": null,
      "outputs": [
        {
          "output_type": "execute_result",
          "data": {
            "text/plain": [
              "(1, 'max', 1.6)"
            ]
          },
          "metadata": {},
          "execution_count": 7
        }
      ]
    },
    {
      "cell_type": "code",
      "source": [
        "x"
      ],
      "metadata": {
        "colab": {
          "base_uri": "https://localhost:8080/"
        },
        "id": "SSOLTnTZo36N",
        "outputId": "3bf961e0-8f68-47fd-e9e2-3785356eae39"
      },
      "execution_count": null,
      "outputs": [
        {
          "output_type": "execute_result",
          "data": {
            "text/plain": [
              "(1, 5, 3, 4, 8)"
            ]
          },
          "metadata": {},
          "execution_count": 8
        }
      ]
    },
    {
      "cell_type": "code",
      "source": [
        "y"
      ],
      "metadata": {
        "colab": {
          "base_uri": "https://localhost:8080/"
        },
        "id": "qM72HdBpo7IA",
        "outputId": "381eb1f5-3070-4ced-952c-02ee28a0949b"
      },
      "execution_count": null,
      "outputs": [
        {
          "output_type": "execute_result",
          "data": {
            "text/plain": [
              "(1, 'max', 1.6)"
            ]
          },
          "metadata": {},
          "execution_count": 9
        }
      ]
    },
    {
      "cell_type": "code",
      "source": [
        "z = x + y\n",
        "z"
      ],
      "metadata": {
        "colab": {
          "base_uri": "https://localhost:8080/"
        },
        "id": "DFwsxhDro81M",
        "outputId": "65ea55e0-c821-4f17-a167-0734e296b060"
      },
      "execution_count": null,
      "outputs": [
        {
          "output_type": "execute_result",
          "data": {
            "text/plain": [
              "(1, 5, 3, 4, 8, 1, 'max', 1.6)"
            ]
          },
          "metadata": {},
          "execution_count": 12
        }
      ]
    },
    {
      "cell_type": "code",
      "source": [
        "a = ('hi',) * 5\n",
        "a"
      ],
      "metadata": {
        "colab": {
          "base_uri": "https://localhost:8080/"
        },
        "id": "0Yy5Nis7pSUm",
        "outputId": "c8960b8f-a90b-42c5-c0b0-69848d09c488"
      },
      "execution_count": null,
      "outputs": [
        {
          "output_type": "execute_result",
          "data": {
            "text/plain": [
              "('hi', 'hi', 'hi', 'hi', 'hi')"
            ]
          },
          "metadata": {},
          "execution_count": 13
        }
      ]
    },
    {
      "cell_type": "code",
      "source": [
        "a[2]\n",
        "max(x)\n",
        "min(x)"
      ],
      "metadata": {
        "colab": {
          "base_uri": "https://localhost:8080/"
        },
        "id": "KXOX2PDYplgC",
        "outputId": "cee8c64b-725d-490b-c4ae-a3c7711eed72"
      },
      "execution_count": null,
      "outputs": [
        {
          "output_type": "execute_result",
          "data": {
            "text/plain": [
              "1"
            ]
          },
          "metadata": {},
          "execution_count": 16
        }
      ]
    },
    {
      "cell_type": "code",
      "source": [
        "del x"
      ],
      "metadata": {
        "id": "ODQJwPvOp-2f"
      },
      "execution_count": null,
      "outputs": []
    },
    {
      "cell_type": "code",
      "source": [
        "x"
      ],
      "metadata": {
        "colab": {
          "base_uri": "https://localhost:8080/",
          "height": 169
        },
        "id": "dumGJS9rqA0_",
        "outputId": "697c9eaa-b7c8-41ab-9f54-8d6916a8ce23"
      },
      "execution_count": null,
      "outputs": [
        {
          "output_type": "error",
          "ename": "NameError",
          "evalue": "ignored",
          "traceback": [
            "\u001b[0;31m---------------------------------------------------------------------------\u001b[0m",
            "\u001b[0;31mNameError\u001b[0m                                 Traceback (most recent call last)",
            "\u001b[0;32m<ipython-input-18-6fcf9dfbd479>\u001b[0m in \u001b[0;36m<module>\u001b[0;34m()\u001b[0m\n\u001b[0;32m----> 1\u001b[0;31m \u001b[0mx\u001b[0m\u001b[0;34m\u001b[0m\u001b[0;34m\u001b[0m\u001b[0m\n\u001b[0m",
            "\u001b[0;31mNameError\u001b[0m: name 'x' is not defined"
          ]
        }
      ]
    },
    {
      "cell_type": "markdown",
      "source": [
        "# Dictionaries in Python"
      ],
      "metadata": {
        "id": "4zrWSe8cryf2"
      }
    },
    {
      "cell_type": "code",
      "source": [
        "d = {}\n",
        "# d = {\"George\": 24, \"Tom\": 32}"
      ],
      "metadata": {
        "id": "n4BP1iq8r2cA"
      },
      "execution_count": null,
      "outputs": []
    },
    {
      "cell_type": "code",
      "source": [
        "d[\"George\"] = 24\n",
        "d[\"Tom\"] = 32\n",
        "d[\"Jenny\"] = 16"
      ],
      "metadata": {
        "id": "FC03gzfksPMG"
      },
      "execution_count": null,
      "outputs": []
    },
    {
      "cell_type": "code",
      "source": [
        "print(d[\"George\"])"
      ],
      "metadata": {
        "colab": {
          "base_uri": "https://localhost:8080/"
        },
        "id": "WkUTuix8sdtv",
        "outputId": "98ce1df9-898f-4f86-f483-107fe86643c7"
      },
      "execution_count": null,
      "outputs": [
        {
          "output_type": "stream",
          "name": "stdout",
          "text": [
            "24\n"
          ]
        }
      ]
    },
    {
      "cell_type": "code",
      "source": [
        "print(d[\"Tom\"])"
      ],
      "metadata": {
        "colab": {
          "base_uri": "https://localhost:8080/"
        },
        "id": "f6AImAtHskCQ",
        "outputId": "720c10a5-89e1-4597-80d9-0aa657ecdf8e"
      },
      "execution_count": null,
      "outputs": [
        {
          "output_type": "stream",
          "name": "stdout",
          "text": [
            "32\n"
          ]
        }
      ]
    },
    {
      "cell_type": "code",
      "source": [
        "print(d[\"Alice\"])"
      ],
      "metadata": {
        "colab": {
          "base_uri": "https://localhost:8080/",
          "height": 169
        },
        "id": "7wIWPWaYsnta",
        "outputId": "ba0b96aa-e706-4c59-f1b2-020055b4f9b9"
      },
      "execution_count": null,
      "outputs": [
        {
          "output_type": "error",
          "ename": "KeyError",
          "evalue": "ignored",
          "traceback": [
            "\u001b[0;31m---------------------------------------------------------------------------\u001b[0m",
            "\u001b[0;31mKeyError\u001b[0m                                  Traceback (most recent call last)",
            "\u001b[0;32m<ipython-input-23-36dc94b23fc1>\u001b[0m in \u001b[0;36m<module>\u001b[0;34m()\u001b[0m\n\u001b[0;32m----> 1\u001b[0;31m \u001b[0mprint\u001b[0m\u001b[0;34m(\u001b[0m\u001b[0md\u001b[0m\u001b[0;34m[\u001b[0m\u001b[0;34m\"Alice\"\u001b[0m\u001b[0;34m]\u001b[0m\u001b[0;34m)\u001b[0m\u001b[0;34m\u001b[0m\u001b[0;34m\u001b[0m\u001b[0m\n\u001b[0m",
            "\u001b[0;31mKeyError\u001b[0m: 'Alice'"
          ]
        }
      ]
    },
    {
      "cell_type": "code",
      "source": [
        "print(d[\"Jenny\"])"
      ],
      "metadata": {
        "colab": {
          "base_uri": "https://localhost:8080/"
        },
        "id": "U6_homflsrwG",
        "outputId": "3598dead-1b44-47ab-ce8f-c79f8dbe6181"
      },
      "execution_count": null,
      "outputs": [
        {
          "output_type": "stream",
          "name": "stdout",
          "text": [
            "16\n"
          ]
        }
      ]
    },
    {
      "cell_type": "code",
      "source": [
        "d[\"Jenny\"] = 20\n",
        "\n",
        "print(d[\"Jenny\"])"
      ],
      "metadata": {
        "colab": {
          "base_uri": "https://localhost:8080/"
        },
        "id": "Z8nVj6sSs6dt",
        "outputId": "4257b6f9-cbc0-4ff3-ba34-882269eda174"
      },
      "execution_count": null,
      "outputs": [
        {
          "output_type": "stream",
          "name": "stdout",
          "text": [
            "20\n"
          ]
        }
      ]
    },
    {
      "cell_type": "code",
      "source": [
        "# Keys are commonly strings or numbers\n",
        "d[10] = 100\n",
        "print(d[10])"
      ],
      "metadata": {
        "colab": {
          "base_uri": "https://localhost:8080/"
        },
        "id": "qqQKGk-GtGfn",
        "outputId": "c5db682c-0ccb-4289-c688-f93587f3a577"
      },
      "execution_count": null,
      "outputs": [
        {
          "output_type": "stream",
          "name": "stdout",
          "text": [
            "100\n"
          ]
        }
      ]
    },
    {
      "cell_type": "code",
      "source": [
        "# How to iterate over key-values pairs?\n",
        "for key, value in d.items():\n",
        "  print(\"key:\")\n",
        "  print(key)\n",
        "  print(\"Value:\")\n",
        "  print(value)\n",
        "  print(\"\")"
      ],
      "metadata": {
        "colab": {
          "base_uri": "https://localhost:8080/"
        },
        "id": "BMcgqjjGtfdY",
        "outputId": "2808b594-e82e-44d9-db58-334f6ed27b85"
      },
      "execution_count": null,
      "outputs": [
        {
          "output_type": "stream",
          "name": "stdout",
          "text": [
            "key:\n",
            "George\n",
            "Value:\n",
            "24\n",
            "\n",
            "key:\n",
            "Tom\n",
            "Value:\n",
            "32\n",
            "\n",
            "key:\n",
            "Jenny\n",
            "Value:\n",
            "20\n",
            "\n",
            "key:\n",
            "10\n",
            "Value:\n",
            "100\n",
            "\n"
          ]
        }
      ]
    },
    {
      "cell_type": "markdown",
      "source": [
        ""
      ],
      "metadata": {
        "id": "iZ19WPtdvU-i"
      }
    },
    {
      "cell_type": "markdown",
      "source": [
        "# Functions"
      ],
      "metadata": {
        "id": "qlS888vKaQVB"
      }
    },
    {
      "cell_type": "code",
      "source": [
        "x = [0, 2, 4, 5, 6]\n",
        "x"
      ],
      "metadata": {
        "colab": {
          "base_uri": "https://localhost:8080/"
        },
        "id": "E4hq1X9DaS1K",
        "outputId": "eadf4def-a16f-47b0-c215-ba2a51bcd443"
      },
      "execution_count": 2,
      "outputs": [
        {
          "output_type": "execute_result",
          "data": {
            "text/plain": [
              "[0, 2, 4, 5, 6]"
            ]
          },
          "metadata": {},
          "execution_count": 2
        }
      ]
    },
    {
      "cell_type": "code",
      "source": [
        "max(x)"
      ],
      "metadata": {
        "colab": {
          "base_uri": "https://localhost:8080/"
        },
        "id": "dBTF-jBEcGN7",
        "outputId": "b1ef4516-50d3-42ab-df85-369ef3cced73"
      },
      "execution_count": 3,
      "outputs": [
        {
          "output_type": "execute_result",
          "data": {
            "text/plain": [
              "6"
            ]
          },
          "metadata": {},
          "execution_count": 3
        }
      ]
    },
    {
      "cell_type": "code",
      "source": [
        "len(x)"
      ],
      "metadata": {
        "colab": {
          "base_uri": "https://localhost:8080/"
        },
        "id": "wPU_0NREcJK8",
        "outputId": "07b40fd2-8ac8-44bc-81d7-71bb0829c7a7"
      },
      "execution_count": 4,
      "outputs": [
        {
          "output_type": "execute_result",
          "data": {
            "text/plain": [
              "5"
            ]
          },
          "metadata": {},
          "execution_count": 4
        }
      ]
    },
    {
      "cell_type": "code",
      "source": [
        "round(1.68,1)"
      ],
      "metadata": {
        "colab": {
          "base_uri": "https://localhost:8080/"
        },
        "id": "1ef4KzrgcNFL",
        "outputId": "50d00bfa-957c-4687-b08b-9273fdd3a2db"
      },
      "execution_count": 5,
      "outputs": [
        {
          "output_type": "execute_result",
          "data": {
            "text/plain": [
              "1.7"
            ]
          },
          "metadata": {},
          "execution_count": 5
        }
      ]
    },
    {
      "cell_type": "code",
      "source": [
        "round(1.68)"
      ],
      "metadata": {
        "colab": {
          "base_uri": "https://localhost:8080/"
        },
        "id": "4GSW6l6ocRn5",
        "outputId": "cd88e925-6174-4773-c4e4-8dd4fc046165"
      },
      "execution_count": 6,
      "outputs": [
        {
          "output_type": "execute_result",
          "data": {
            "text/plain": [
              "2"
            ]
          },
          "metadata": {},
          "execution_count": 6
        }
      ]
    },
    {
      "cell_type": "code",
      "source": [
        "sorted(x, reverse=True)"
      ],
      "metadata": {
        "colab": {
          "base_uri": "https://localhost:8080/"
        },
        "id": "ibQ5ztupcVPZ",
        "outputId": "53066ae3-1b82-4ae2-81cd-f2ea866da2ef"
      },
      "execution_count": 7,
      "outputs": [
        {
          "output_type": "execute_result",
          "data": {
            "text/plain": [
              "[6, 5, 4, 2, 0]"
            ]
          },
          "metadata": {},
          "execution_count": 7
        }
      ]
    },
    {
      "cell_type": "markdown",
      "source": [
        "# sum() and round() functions in Python"
      ],
      "metadata": {
        "id": "cBtE1opbc5Sz"
      }
    },
    {
      "cell_type": "code",
      "source": [
        "round(1.68,1)"
      ],
      "metadata": {
        "colab": {
          "base_uri": "https://localhost:8080/"
        },
        "id": "1CTYV0dKc6ZR",
        "outputId": "30c4cb6d-cdf8-4e63-a306-df1127468c98"
      },
      "execution_count": 8,
      "outputs": [
        {
          "output_type": "execute_result",
          "data": {
            "text/plain": [
              "1.7"
            ]
          },
          "metadata": {},
          "execution_count": 8
        }
      ]
    },
    {
      "cell_type": "code",
      "source": [
        "round(1.68)"
      ],
      "metadata": {
        "colab": {
          "base_uri": "https://localhost:8080/"
        },
        "id": "iKg_fZItc-gR",
        "outputId": "f7fd716d-db1e-4852-8ea1-821e17a57e6c"
      },
      "execution_count": 9,
      "outputs": [
        {
          "output_type": "execute_result",
          "data": {
            "text/plain": [
              "2"
            ]
          },
          "metadata": {},
          "execution_count": 9
        }
      ]
    },
    {
      "cell_type": "code",
      "source": [
        "round(1.45)"
      ],
      "metadata": {
        "colab": {
          "base_uri": "https://localhost:8080/"
        },
        "id": "CNmcFaKMdBPS",
        "outputId": "c6437ef2-e62e-46cd-d017-510584e3c89c"
      },
      "execution_count": 10,
      "outputs": [
        {
          "output_type": "execute_result",
          "data": {
            "text/plain": [
              "1"
            ]
          },
          "metadata": {},
          "execution_count": 10
        }
      ]
    },
    {
      "cell_type": "code",
      "source": [
        "num_list = [4, 2, 1, 3]\n",
        "print(sum(num_list))"
      ],
      "metadata": {
        "colab": {
          "base_uri": "https://localhost:8080/"
        },
        "id": "ijwTZSpRdG1T",
        "outputId": "acf43bcd-3d15-4efe-dded-8836b07bff12"
      },
      "execution_count": 11,
      "outputs": [
        {
          "output_type": "stream",
          "name": "stdout",
          "text": [
            "10\n"
          ]
        }
      ]
    },
    {
      "cell_type": "code",
      "source": [
        "num_tup = (10, 20, 30)\n",
        "print(sum(num_tup))"
      ],
      "metadata": {
        "colab": {
          "base_uri": "https://localhost:8080/"
        },
        "id": "6BS6BasAdNhi",
        "outputId": "d8ef078a-47a8-432f-ab79-58df3b854ce7"
      },
      "execution_count": 12,
      "outputs": [
        {
          "output_type": "stream",
          "name": "stdout",
          "text": [
            "60\n"
          ]
        }
      ]
    },
    {
      "cell_type": "markdown",
      "source": [
        "# Define functions in Python"
      ],
      "metadata": {
        "id": "CwHLpkCEdmGp"
      }
    },
    {
      "cell_type": "code",
      "source": [
        "def beef():\n",
        "    print(\"Dayum, function are cool!\")\n",
        "\n",
        "beef()\n",
        "beef()\n",
        "beef()"
      ],
      "metadata": {
        "colab": {
          "base_uri": "https://localhost:8080/"
        },
        "id": "58K1Z3uKdnCh",
        "outputId": "dbf73e80-74a8-44ff-c2f4-d510083dc15e"
      },
      "execution_count": 16,
      "outputs": [
        {
          "output_type": "stream",
          "name": "stdout",
          "text": [
            "Dayum, function are cool!\n",
            "Dayum, function are cool!\n",
            "Dayum, function are cool!\n"
          ]
        }
      ]
    },
    {
      "cell_type": "code",
      "source": [
        "def bitcoin_to_usd(btc):\n",
        "    amount = btc * 527\n",
        "    print(amount)\n",
        "\n",
        "bitcoin_to_usd(3.85)\n",
        "bitcoin_to_usd(1)\n",
        "bitcoin_to_usd(13)"
      ],
      "metadata": {
        "colab": {
          "base_uri": "https://localhost:8080/"
        },
        "id": "2ISn_HNDha55",
        "outputId": "1513ac02-bb2a-4cf7-8e8a-6378d9b5c341"
      },
      "execution_count": 18,
      "outputs": [
        {
          "output_type": "stream",
          "name": "stdout",
          "text": [
            "2028.95\n",
            "527\n",
            "6851\n"
          ]
        }
      ]
    },
    {
      "cell_type": "markdown",
      "source": [
        "# Methods in Python"
      ],
      "metadata": {
        "id": "qCZw2B38i3V8"
      }
    },
    {
      "cell_type": "code",
      "source": [
        "x.index(2)\n"
      ],
      "metadata": {
        "colab": {
          "base_uri": "https://localhost:8080/"
        },
        "id": "L6psabUri5d7",
        "outputId": "9792936e-065c-4438-d820-17bc18e43acf"
      },
      "execution_count": 19,
      "outputs": [
        {
          "output_type": "execute_result",
          "data": {
            "text/plain": [
              "1"
            ]
          },
          "metadata": {},
          "execution_count": 19
        }
      ]
    },
    {
      "cell_type": "code",
      "source": [
        "x.count(1)"
      ],
      "metadata": {
        "colab": {
          "base_uri": "https://localhost:8080/"
        },
        "id": "FeMlDluYi-Y0",
        "outputId": "4d18f49f-c8b6-4966-90b9-477083aa6aae"
      },
      "execution_count": 20,
      "outputs": [
        {
          "output_type": "execute_result",
          "data": {
            "text/plain": [
              "0"
            ]
          },
          "metadata": {},
          "execution_count": 20
        }
      ]
    },
    {
      "cell_type": "code",
      "source": [
        "word = 'abcdef'\n",
        "word.capitalize()"
      ],
      "metadata": {
        "colab": {
          "base_uri": "https://localhost:8080/",
          "height": 35
        },
        "id": "DwW755d8jBQj",
        "outputId": "027ab07e-4610-4b59-daf5-197f2cda5c11"
      },
      "execution_count": 21,
      "outputs": [
        {
          "output_type": "execute_result",
          "data": {
            "text/plain": [
              "'Abcdef'"
            ],
            "application/vnd.google.colaboratory.intrinsic+json": {
              "type": "string"
            }
          },
          "metadata": {},
          "execution_count": 21
        }
      ]
    },
    {
      "cell_type": "code",
      "source": [
        "word.replace(\"c\", \"xy\")"
      ],
      "metadata": {
        "colab": {
          "base_uri": "https://localhost:8080/",
          "height": 35
        },
        "id": "33oz6cTxjOBU",
        "outputId": "3bcafcae-32d9-411e-bb1a-aeb1951dcd79"
      },
      "execution_count": 23,
      "outputs": [
        {
          "output_type": "execute_result",
          "data": {
            "text/plain": [
              "'abxydef'"
            ],
            "application/vnd.google.colaboratory.intrinsic+json": {
              "type": "string"
            }
          },
          "metadata": {},
          "execution_count": 23
        }
      ]
    }
  ]
}