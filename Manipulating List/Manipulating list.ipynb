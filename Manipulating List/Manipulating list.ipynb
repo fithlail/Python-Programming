{
 "cells": [
  {
   "cell_type": "code",
   "execution_count": 1,
   "metadata": {},
   "outputs": [
    {
     "name": "stdout",
     "output_type": "stream",
     "text": [
      "['a', 'z', 'c']\n"
     ]
    }
   ],
   "source": [
    "x = [\"a\", \"b\", \"c\"]\n",
    "y = x\n",
    "y[1] = \"z\"\n",
    "print(x)"
   ]
  },
  {
   "cell_type": "code",
   "execution_count": 2,
   "metadata": {},
   "outputs": [
    {
     "name": "stdout",
     "output_type": "stream",
     "text": [
      "['a', 'r', 's', 't']\n"
     ]
    }
   ],
   "source": [
    "x = [\"a\", \"b\", \"c\", \"d\"]\n",
    "x[1] = \"r\"\n",
    "x[2:] = [\"s\", \"t\"]\n",
    "\n",
    "print(x)"
   ]
  },
  {
   "cell_type": "code",
   "execution_count": 9,
   "metadata": {},
   "outputs": [
    {
     "name": "stdout",
     "output_type": "stream",
     "text": [
      "['hallway', 11.25, 'kitchen', 18.0, 'chill zone', 20.0, 'bedroom', 10.75, 'bathroom', 10.5]\n"
     ]
    }
   ],
   "source": [
    "areas = [\"hallway\", 11.25, \"kitchen\", 18.0, \"living room\", 20.0, \"bedroom\", 10.75, \"bathroom\", 9.50]\n",
    "\n",
    "areas[9] = 10.50\n",
    "\n",
    "areas[4] = \"chill zone\"\n",
    "\n",
    "print(areas)"
   ]
  },
  {
   "cell_type": "code",
   "execution_count": 10,
   "metadata": {},
   "outputs": [
    {
     "name": "stdout",
     "output_type": "stream",
     "text": [
      "['a', 'b', 'c', 'd', 'e', 'f']\n"
     ]
    }
   ],
   "source": [
    "x = [\"a\", \"b\", \"c\", \"d\"]\n",
    "y = x + [\"e\", \"f\"]\n",
    "\n",
    "print(y)"
   ]
  },
  {
   "cell_type": "code",
   "execution_count": 11,
   "metadata": {},
   "outputs": [
    {
     "name": "stdout",
     "output_type": "stream",
     "text": [
      "['hallway', 11.25, 'kitchen', 18.0, 'chill zone', 20.0, 'bedroom', 10.75, 'bathroom', 10.5, 'poolhouse', 24.5]\n"
     ]
    }
   ],
   "source": [
    "areas = [\"hallway\", 11.25, \"kitchen\", 18.0, \"chill zone\", 20.0, \"bedroom\", 10.75, \"bathroom\", 10.50]\n",
    "\n",
    "areas_1 = areas + [\"poolhouse\", 24.5]\n",
    "\n",
    "print(areas_1)"
   ]
  },
  {
   "cell_type": "code",
   "execution_count": 12,
   "metadata": {},
   "outputs": [
    {
     "name": "stdout",
     "output_type": "stream",
     "text": [
      "['hallway', 11.25, 'kitchen', 18.0, 'chill zone', 20.0, 'bedroom', 10.75, 'bathroom', 10.5, 'poolhouse', 24.5, 'garage', 15.45]\n"
     ]
    }
   ],
   "source": [
    "areas_2 = areas_1 + [\"garage\", 15.45]\n",
    "\n",
    "print(areas_2)"
   ]
  },
  {
   "cell_type": "code",
   "execution_count": 16,
   "metadata": {},
   "outputs": [
    {
     "name": "stdout",
     "output_type": "stream",
     "text": [
      "['a', 'c', 'd']\n"
     ]
    }
   ],
   "source": [
    "x = [\"a\", \"b\", \"c\", \"d\"]\n",
    "del(x[1])\n",
    "print(x)"
   ]
  },
  {
   "cell_type": "code",
   "execution_count": 23,
   "metadata": {},
   "outputs": [
    {
     "name": "stdout",
     "output_type": "stream",
     "text": [
      "['hallway', 11.25, 'kitchen', 18.0, 'chill zone', 20.0, 'bedroom', 10.75, 'bathroom', 10.5, 'garage', 15.45]\n"
     ]
    }
   ],
   "source": [
    "areas = [\"hallway\", 11.25, \"kitchen\", 18.0, \"chill zone\", 20.0, \"bedroom\", 10.75, \"bathroom\", 10.50, \"poolhouse\", 24.5, \"garage\", 15.45]\n",
    "del(areas[-4:-2])\n",
    "\n",
    "print(areas)"
   ]
  },
  {
   "cell_type": "code",
   "execution_count": 47,
   "metadata": {},
   "outputs": [
    {
     "name": "stdout",
     "output_type": "stream",
     "text": [
      "[11.25, 18.0, 20.0, 10.75, 9.5]\n",
      "[11.25, 18.0, 20.0, 10.75, 9.5]\n"
     ]
    }
   ],
   "source": [
    "areas = [11.25, 18.0, 20.0, 10.75, 9.50]\n",
    "print(areas)\n",
    "areas_copy = list(areas)\n",
    "areas_copy[0] = 5.0\n",
    "print(areas)"
   ]
  },
  {
   "cell_type": "code",
   "execution_count": null,
   "metadata": {},
   "outputs": [],
   "source": []
  },
  {
   "cell_type": "code",
   "execution_count": null,
   "metadata": {},
   "outputs": [],
   "source": []
  }
 ],
 "metadata": {
  "kernelspec": {
   "display_name": "Python 3",
   "language": "python",
   "name": "python3"
  },
  "language_info": {
   "codemirror_mode": {
    "name": "ipython",
    "version": 3
   },
   "file_extension": ".py",
   "mimetype": "text/x-python",
   "name": "python",
   "nbconvert_exporter": "python",
   "pygments_lexer": "ipython3",
   "version": "3.8.5"
  }
 },
 "nbformat": 4,
 "nbformat_minor": 4
}
